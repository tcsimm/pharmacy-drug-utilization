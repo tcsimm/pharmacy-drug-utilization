{
 "cells": [
  {
   "cell_type": "code",
   "execution_count": 1,
   "id": "95e110ba",
   "metadata": {},
   "outputs": [],
   "source": [
    "# Analysis\n",
    "\n",
    "import pandas as pd\n",
    "import numpy as np\n",
    "\n",
    "# Read cleaned csv\n",
    "df = pd.read_csv(\"/Users/thomassimmons/c/p/data/df_clean.csv\")"
   ]
  },
  {
   "cell_type": "code",
   "execution_count": 2,
   "id": "bece46c3",
   "metadata": {},
   "outputs": [],
   "source": [
    "# Detect columns\n",
    "num = df.select_dtypes(include=np.number).columns.tolist()\n",
    "cat = df.select_dtypes(include=[\"object\", \"category\"]).columns.tolist()"
   ]
  },
  {
   "cell_type": "code",
   "execution_count": 3,
   "id": "aede2376",
   "metadata": {},
   "outputs": [
    {
     "name": "stdout",
     "output_type": "stream",
     "text": [
      "Numeric cols: ['NDC', 'Labeler.Code', 'Product.Code', 'Package.Size', 'Year', 'Quarter', 'Units.Reimbursed', 'Number.of.Prescriptions']\n",
      "Categorical (small) cols: ['Utilization.Type']\n"
     ]
    }
   ],
   "source": [
    "# Keep small-cardinality categoricals only (<= 20 unique)\n",
    "cat_small = [c for c in cat if df[c].nunique(dropna=True) <= 20]\n",
    "\n",
    "print(\"Numeric cols:\", num[:8])\n",
    "print(\"Categorical (small) cols:\", cat_small[:5])"
   ]
  },
  {
   "cell_type": "code",
   "execution_count": 4,
   "id": "735e5fe3",
   "metadata": {},
   "outputs": [
    {
     "name": "stdout",
     "output_type": "stream",
     "text": [
      "\n",
      "Overall numeric summary (first 5 numeric cols):\n",
      "          metric           NDC  Labeler.Code  Product.Code  Package.Size  \\\n",
      "0           mean  4.101116e+10  4.101103e+04  1.245119e+03  2.134281e+01   \n",
      "1            sum  1.066187e+17  1.066184e+11  3.236996e+09  5.548594e+07   \n",
      "2  count_nonnull  2.599748e+06  2.599748e+06  2.599748e+06  2.599748e+06   \n",
      "\n",
      "           Year  \n",
      "0  2.024000e+03  \n",
      "1  5.261890e+09  \n",
      "2  2.599748e+06  \n"
     ]
    }
   ],
   "source": [
    "# Overall numeric summary (mean/sum/count non-null)\n",
    "overall = pd.DataFrame({\n",
    "    \"metric\": [\"mean\", \"sum\", \"count_nonnull\"]\n",
    "})\n",
    "for c in num[:5]:\n",
    "    overall[f\"{c}\"] = [df[c].mean(), df[c].sum(), df[c].notna().sum()]\n",
    "print(\"\\nOverall numeric summary (first 5 numeric cols):\")\n",
    "print(overall)"
   ]
  },
  {
   "cell_type": "code",
   "execution_count": 5,
   "id": "44af99a2",
   "metadata": {},
   "outputs": [
    {
     "name": "stdout",
     "output_type": "stream",
     "text": [
      "\n",
      "Group-by 'Utilization.Type' (first 5 numeric cols):\n",
      "                      NDC_mean            NDC_sum  NDC_count  \\\n",
      "Utilization.Type                                               \n",
      "MCOU              4.073465e+10  57911266156661103    1421671   \n",
      "FFSU              4.134485e+10  48707412625431236    1178077   \n",
      "\n",
      "                  Labeler.Code_mean  Labeler.Code_sum  Labeler.Code_count  \\\n",
      "Utilization.Type                                                            \n",
      "MCOU                   40734.518533       57911083698             1421671   \n",
      "FFSU                   41344.726473       48707271329             1178077   \n",
      "\n",
      "                  Product.Code_mean  Product.Code_sum  Product.Code_count  \\\n",
      "Utilization.Type                                                            \n",
      "MCOU                    1283.195443        1824281748             1421671   \n",
      "FFSU                    1199.169762        1412714316             1178077   \n",
      "\n",
      "                  Package.Size_mean  Package.Size_sum  Package.Size_count  \\\n",
      "Utilization.Type                                                            \n",
      "MCOU                      21.443993          30486303             1421671   \n",
      "FFSU                      21.220715          24999636             1178077   \n",
      "\n",
      "                  Year_mean    Year_sum  Year_count  \n",
      "Utilization.Type                                     \n",
      "MCOU                 2024.0  2877462104     1421671  \n",
      "FFSU                 2024.0  2384427848     1178077  \n"
     ]
    }
   ],
   "source": [
    "# Group-by: first small categorical vs first few numeric\n",
    "if cat_small and num:\n",
    "    gcol = cat_small[0]\n",
    "    gb = df.groupby(gcol)[num[:5]].agg([\"mean\", \"sum\", \"count\"])\n",
    "    gb.columns = [\"_\".join(col).strip() for col in gb.columns.to_flat_index()]\n",
    "    gb = gb.sort_values(by=\"{}_count\".format(num[0]), ascending=False)\n",
    "    print(f\"\\nGroup-by '{gcol}' (first 5 numeric cols):\")\n",
    "    print(gb.head(10))\n",
    "else:\n",
    "    print(\"\\nNo suitable categorical or numeric columns for group-by\")"
   ]
  }
 ],
 "metadata": {
  "kernelspec": {
   "display_name": "base",
   "language": "python",
   "name": "python3"
  },
  "language_info": {
   "codemirror_mode": {
    "name": "ipython",
    "version": 3
   },
   "file_extension": ".py",
   "mimetype": "text/x-python",
   "name": "python",
   "nbconvert_exporter": "python",
   "pygments_lexer": "ipython3",
   "version": "3.12.4"
  }
 },
 "nbformat": 4,
 "nbformat_minor": 5
}
