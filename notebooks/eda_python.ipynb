{
 "cells": [
  {
   "cell_type": "code",
   "execution_count": 11,
   "id": "5664672b",
   "metadata": {},
   "outputs": [],
   "source": [
    "import pandas as pd\n",
    "\n",
    "df = pd.read_csv(\"/Users/thomassimmons/c/p/data/df_clean.csv\")"
   ]
  },
  {
   "cell_type": "code",
   "execution_count": 13,
   "id": "2d115786",
   "metadata": {},
   "outputs": [
    {
     "name": "stdout",
     "output_type": "stream",
     "text": [
      "Dataset shape:\n",
      " (2599748, 15)\n"
     ]
    }
   ],
   "source": [
    "# Get dataset shape\n",
    "print(\"Dataset shape:\\n\", df.shape)"
   ]
  },
  {
   "cell_type": "code",
   "execution_count": 15,
   "id": "6c233837",
   "metadata": {},
   "outputs": [
    {
     "data": {
      "text/plain": [
       "<bound method DataFrame.info of         Utilization.Type State          NDC  Labeler.Code  Product.Code  \\\n",
       "0                   FFSU    AK      2143380             2          1433   \n",
       "1                   FFSU    AK      2143480             2          1434   \n",
       "2                   FFSU    AK      2143611             2          1436   \n",
       "3                   FFSU    AK      2144511             2          1445   \n",
       "4                   FFSU    AK      2145780             2          1457   \n",
       "...                  ...   ...          ...           ...           ...   \n",
       "2599743             FFSU    WY  78206012701         78206           127   \n",
       "2599744             FFSU    WY  78206014501         78206           145   \n",
       "2599745             FFSU    WY  81298578303         81298          5783   \n",
       "2599746             FFSU    WY  81964020505         81964           205   \n",
       "2599747             FFSU    WY  82347050505         82347           505   \n",
       "\n",
       "         Package.Size  Year  Quarter  Suppression.Used Product.Name  \\\n",
       "0                  80  2024        4             False   TRULICITY    \n",
       "1                  80  2024        4             False   TRULICITY    \n",
       "2                  11  2024        4             False   EMGALITY P   \n",
       "3                  11  2024        4             False   TALTZ AUTO   \n",
       "4                  80  2024        4             False   MOUNJARO     \n",
       "...               ...   ...      ...               ...          ...   \n",
       "2599743             1  2024        1             False   DULERA 100   \n",
       "2599744             1  2024        1             False   NEXPLANON    \n",
       "2599745             3  2024        1             False   TRIAMCINOL   \n",
       "2599746             5  2024        1             False   AMOXICILLI   \n",
       "2599747             5  2024        1             False   LIDOCAINE    \n",
       "\n",
       "         Units.Reimbursed  Number.of.Prescriptions  Total.Amount.Reimbursed  \\\n",
       "0                   230.0                      110                108512.57   \n",
       "1                   216.0                      108                102247.58   \n",
       "2                    32.0                       31                 22193.94   \n",
       "3                    38.0                       37                253852.99   \n",
       "4                   182.0                       91                 94241.98   \n",
       "...                   ...                      ...                      ...   \n",
       "2599743             637.0                       48                 15957.26   \n",
       "2599744              86.0                       86                 92377.23   \n",
       "2599745              62.5                       26                   250.92   \n",
       "2599746             957.0                       38                   441.90   \n",
       "2599747            1149.0                       38                  2587.33   \n",
       "\n",
       "         Medicaid.Amount.Reimbursed  Non.Medicaid.Amount.Reimbursed  \n",
       "0                         105868.53                         2644.04  \n",
       "1                          97153.90                         5093.68  \n",
       "2                          22193.94                            0.00  \n",
       "3                         226811.15                        27041.84  \n",
       "4                          92199.80                         2042.18  \n",
       "...                             ...                             ...  \n",
       "2599743                    15668.15                          289.11  \n",
       "2599744                    92377.23                            0.00  \n",
       "2599745                      137.74                          113.18  \n",
       "2599746                      441.90                            0.00  \n",
       "2599747                     2587.33                            0.00  \n",
       "\n",
       "[2599748 rows x 15 columns]>"
      ]
     },
     "execution_count": 15,
     "metadata": {},
     "output_type": "execute_result"
    }
   ],
   "source": [
    "# Column info\n",
    "df.info"
   ]
  },
  {
   "cell_type": "code",
   "execution_count": 16,
   "id": "cc648a52",
   "metadata": {},
   "outputs": [
    {
     "data": {
      "text/plain": [
       "Utilization.Type                   object\n",
       "State                              object\n",
       "NDC                                 int64\n",
       "Labeler.Code                        int64\n",
       "Product.Code                        int64\n",
       "Package.Size                        int64\n",
       "Year                                int64\n",
       "Quarter                             int64\n",
       "Suppression.Used                     bool\n",
       "Product.Name                       object\n",
       "Units.Reimbursed                  float64\n",
       "Number.of.Prescriptions             int64\n",
       "Total.Amount.Reimbursed           float64\n",
       "Medicaid.Amount.Reimbursed        float64\n",
       "Non.Medicaid.Amount.Reimbursed    float64\n",
       "dtype: object"
      ]
     },
     "execution_count": 16,
     "metadata": {},
     "output_type": "execute_result"
    }
   ],
   "source": [
    "# Data types\n",
    "df.dtypes"
   ]
  },
  {
   "cell_type": "code",
   "execution_count": 18,
   "id": "bbebd1e4",
   "metadata": {},
   "outputs": [
    {
     "data": {
      "text/plain": [
       "Utilization.Type                  0\n",
       "State                             0\n",
       "NDC                               0\n",
       "Labeler.Code                      0\n",
       "Product.Code                      0\n",
       "Package.Size                      0\n",
       "Year                              0\n",
       "Quarter                           0\n",
       "Suppression.Used                  0\n",
       "Product.Name                      0\n",
       "Units.Reimbursed                  0\n",
       "Number.of.Prescriptions           0\n",
       "Total.Amount.Reimbursed           0\n",
       "Medicaid.Amount.Reimbursed        0\n",
       "Non.Medicaid.Amount.Reimbursed    0\n",
       "dtype: int64"
      ]
     },
     "execution_count": 18,
     "metadata": {},
     "output_type": "execute_result"
    }
   ],
   "source": [
    "# Verify no missing/null values\n",
    "df.isnull().sum()"
   ]
  },
  {
   "cell_type": "code",
   "execution_count": null,
   "id": "de210ba2",
   "metadata": {},
   "outputs": [],
   "source": []
  }
 ],
 "metadata": {
  "kernelspec": {
   "display_name": "base",
   "language": "python",
   "name": "python3"
  },
  "language_info": {
   "codemirror_mode": {
    "name": "ipython",
    "version": 3
   },
   "file_extension": ".py",
   "mimetype": "text/x-python",
   "name": "python",
   "nbconvert_exporter": "python",
   "pygments_lexer": "ipython3",
   "version": "3.12.4"
  }
 },
 "nbformat": 4,
 "nbformat_minor": 5
}
